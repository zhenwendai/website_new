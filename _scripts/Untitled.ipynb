{
 "cells": [
  {
   "cell_type": "code",
   "execution_count": 80,
   "metadata": {
    "collapsed": true
   },
   "outputs": [],
   "source": [
    "import bibtexparser\n",
    "import numpy as np"
   ]
  },
  {
   "cell_type": "code",
   "execution_count": 81,
   "metadata": {
    "collapsed": true
   },
   "outputs": [],
   "source": [
    "def getnames(names):\n",
    "    \"\"\"Make people names as firstnames surname. Should eventually combine up the two.\n",
    "\n",
    "    :param names: a list of names\n",
    "    :type names: list\n",
    "    :returns: list -- Correctly formated names\n",
    "    \"\"\"\n",
    "    tidynames = []\n",
    "    for namestring in names:\n",
    "        namestring = namestring.strip()\n",
    "        if len(namestring) < 1:\n",
    "            continue\n",
    "        if ',' in namestring:\n",
    "            namesplit = namestring.split(',', 1)\n",
    "            last = namesplit[0].strip()\n",
    "            firsts = [i.strip() for i in namesplit[1].split()]\n",
    "        else:\n",
    "            namesplit = namestring.split()\n",
    "            last = namesplit.pop()\n",
    "            firsts = [i.replace('.', '. ').strip() for i in namesplit]\n",
    "        if last in ['jnr', 'jr', 'junior']:\n",
    "            last = firsts.pop()\n",
    "        for item in firsts:\n",
    "            if item in ['ben', 'van', 'der', 'de', 'la', 'le']:\n",
    "                last = firsts.pop() + ' ' + last\n",
    "        tidynames.append(' '.join(firsts)+' '+last)\n",
    "    return tidynames"
   ]
  },
  {
   "cell_type": "code",
   "execution_count": 82,
   "metadata": {
    "collapsed": true
   },
   "outputs": [],
   "source": [
    "from bibtexparser import customization\n",
    "\n",
    "def customize(record):\n",
    "    record = customization.convert_to_unicode(record)\n",
    "    record = customization.author(record)\n",
    "    return record"
   ]
  },
  {
   "cell_type": "code",
   "execution_count": 83,
   "metadata": {
    "collapsed": false
   },
   "outputs": [],
   "source": [
    "from bibtexparser.bparser import BibTexParser\n",
    "with open('../../../../writing/CV/zhenwen.bib', 'r') as f:\n",
    "    parser = BibTexParser()\n",
    "    parser.customization = customize\n",
    "    bib_db = bibtexparser.load(f, parser=parser)\n",
    "    f.close()"
   ]
  },
  {
   "cell_type": "code",
   "execution_count": 84,
   "metadata": {
    "collapsed": false
   },
   "outputs": [],
   "source": [
    "year_list = [int(e['year']) for e in bib_db.entries]"
   ]
  },
  {
   "cell_type": "code",
   "execution_count": 85,
   "metadata": {
    "collapsed": true
   },
   "outputs": [
    {
     "data": {
      "text/plain": [
       "[{u'%  pages': u'to appear',\n",
       "  u'author': [u'Sheikh, Abdul-Saboor',\n",
       "   u'\\\\mylastname, \\\\myfirstname',\n",
       "   u'Harper, Nicol',\n",
       "   u'Turner, Richard',\n",
       "   u'L\\xfccke, J\\xf6rg'],\n",
       "  u'booktitle': u'Computational and Systems Neuroscience (Cosyne)',\n",
       "  'id': 'SheikhEtAl2015',\n",
       "  u'title': u'Maximal causes for a masking based model of STRFs in primary auditory cortex',\n",
       "  'type': u'inproceedings',\n",
       "  u'year': u'2015'},\n",
       " {u'author': [u'Rodriguez-Serrano, Jose A.',\n",
       "   u'Larlus, Diane',\n",
       "   u'\\\\mylastname, \\\\myfirstname'],\n",
       "  'id': 'Rodriguez-SerranoEtAl2014',\n",
       "  u'journal': u'IEEE Transactions on Pattern Analysis and Machine Intelligence (TPAMI)',\n",
       "  u'pages': u'under review',\n",
       "  u'publisher': u'IEEE',\n",
       "  u'title': u'Data-Driven Detection of Prominent Objects and of their Parts towards Improved Fine-Grained Visual Recognition',\n",
       "  'type': u'article',\n",
       "  u'year': u'2014'},\n",
       " {u'author': [u'\\\\mylastname, \\\\myfirstname',\n",
       "   u'Damianou, Andreas',\n",
       "   u'Hensman, James',\n",
       "   u'Lawrence, Neil'],\n",
       "  u'booktitle': u'NIPS workshop Software Engineering for Machine Learning',\n",
       "  'id': 'DaiEtAl2014',\n",
       "  u'title': u'Gaussian Process Models with Parallelization and GPU acceleration',\n",
       "  'type': u'inproceedings',\n",
       "  u'year': u'2014'},\n",
       " {u'author': [u'\\\\mylastname, \\\\myfirstname', u'L\\xfccke, J\\xf6rg'],\n",
       "  'id': 'DaiLucke2014',\n",
       "  u'journal': u'IEEE Transactions on Pattern Analysis and Machine Intelligence (TPAMI)',\n",
       "  u'number': u'10',\n",
       "  u'pages': u'1950--1962',\n",
       "  u'publisher': u'IEEE',\n",
       "  u'title': u'Autonomous Document Cleaning\\u2014A Generative Approach to Reconstruct Strongly Corrupted Scanned Texts',\n",
       "  'type': u'article',\n",
       "  u'volume': u'36',\n",
       "  u'year': u'2014'},\n",
       " {u'author': [u'\\\\mylastname, \\\\myfirstname',\n",
       "   u'Exarchakis, Georgios',\n",
       "   u'L\\xfccke, J\\xf6rg'],\n",
       "  u'booktitle': u'Advances in Neural Information Processing Systems (NIPS)',\n",
       "  'id': 'DaiEtAl2013',\n",
       "  u'pages': u'243--251',\n",
       "  u'title': u'What Are the Invariant Occlusive Components of Image Patches? A Probabilistic Generative Approach',\n",
       "  'type': u'inproceedings',\n",
       "  u'year': u'2013'},\n",
       " {u'author': [u'\\\\mylastname, \\\\myfirstname', u'L\\xfccke, J\\xf6rg'],\n",
       "  u'booktitle': u'IEEE Conference on Computer Vision and Pattern Recognition (CVPR), \\\\textbf{oral presentation}',\n",
       "  'id': 'DaiLucke2012a',\n",
       "  u'organization': u'IEEE',\n",
       "  u'pages': u'3338--3345',\n",
       "  u'title': u'Autonomous cleaning of corrupted scanned documents\\u2014A generative modeling approach',\n",
       "  'type': u'inproceedings',\n",
       "  u'year': u'2012'},\n",
       " {u'author': [u'\\\\mylastname, \\\\myfirstname', u'L\\xfccke, J\\xf6rg'],\n",
       "  u'booktitle': u'IEEE Conference on Computer Vision and Pattern Recognition (CVPR)',\n",
       "  'id': 'DaiLucke2012b',\n",
       "  u'organization': u'IEEE',\n",
       "  u'pages': u'2400--2407',\n",
       "  u'title': u'Unsupervised learning of translation invariant occlusive components',\n",
       "  'type': u'inproceedings',\n",
       "  u'year': u'2012'},\n",
       " {u'author': [u'\\\\mylastname, \\\\myfirstname',\n",
       "   u'Shelton, Jacquelyn A',\n",
       "   u'Bornschein, J\\xf6rg',\n",
       "   u'Sheikh, Abdul Saboor',\n",
       "   u'L\\xfccke, J\\xf6rg'],\n",
       "  u'booktitle': u'NIPS workshop Big Learning: Algorithms, Systems, and Tools for Learning',\n",
       "  'id': 'DaiEtAl2011',\n",
       "  u'pages': u'16--17',\n",
       "  u'title': u'Combining approximate inference methods for efficient learning on large computer clusters',\n",
       "  'type': u'inproceedings',\n",
       "  u'year': u'2011'},\n",
       " {u'author': [u'Liu, Miaomiao',\n",
       "   u'Wong, K-YK',\n",
       "   u'\\\\mylastname, \\\\myfirstname',\n",
       "   u'Chen, Zhihu'],\n",
       "  u'booktitle': u'IEEE International Conference on Computer Vision (ICCV)',\n",
       "  'id': 'LiuEtAl2011',\n",
       "  u'organization': u'IEEE',\n",
       "  u'pages': u'579--586',\n",
       "  u'title': u'Pose estimation from reflections for specular surface recovery',\n",
       "  'type': u'inproceedings',\n",
       "  u'year': u'2011'},\n",
       " {u'author': [u'Liu, Miaomiao',\n",
       "   u'Wong, Kwan-Yee K',\n",
       "   u'\\\\mylastname, \\\\myfirstname',\n",
       "   u'Chen, Zhihu'],\n",
       "  u'booktitle': u'Asian Conference on Computer Vision (ACCV) 2010',\n",
       "  'id': 'LiuEtAl2010',\n",
       "  u'pages': u'137--147',\n",
       "  u'publisher': u'Springer',\n",
       "  u'title': u'Specular surface recovery from reflections of a planar pattern undergoing an unknown pure translation',\n",
       "  'type': u'inproceedings',\n",
       "  u'year': u'2011'},\n",
       " {u'author': [u'Schnieders, Dirk',\n",
       "   u'Wong, Kwan-Yee K',\n",
       "   u'\\\\mylastname, \\\\myfirstname'],\n",
       "  u'booktitle': u'Asian Conference on Computer Vision (ACCV) 2009',\n",
       "  'id': 'SchniedersEtAl2009',\n",
       "  u'pages': u'96--107',\n",
       "  u'publisher': u'Springer',\n",
       "  u'title': u'Polygonal light source estimation',\n",
       "  'type': u'incollection',\n",
       "  u'year': u'2010'},\n",
       " {u'author': [u'Wang, Jinlong',\n",
       "   u'Xu, Congfu',\n",
       "   u'Li, Gang',\n",
       "   u'\\\\mylastname, \\\\myfirstname',\n",
       "   u'Luo, Guojing'],\n",
       "  u'booktitle': u'Pacific-Asia Conference Advances in Knowledge Discovery and Data Mining (PAKDD)',\n",
       "  'id': 'JinlongEtAl2007',\n",
       "  u'pages': u'320--331',\n",
       "  u'title': u'Understanding Research Field Evolving and Trend with Dynamic Bayesian\\nNetworks',\n",
       "  'type': u'inproceedings',\n",
       "  u'year': u'2007'},\n",
       " {u'%address': u'Germany',\n",
       "  u'author': [u'\\\\mylastname, \\\\myfirstname'],\n",
       "  'id': 'Dai2013',\n",
       "  u'keyword': u'thesis',\n",
       "  u'school': u'Goethe-University Frankfurt',\n",
       "  u'title': u'Unsupervised Learning of Invariant Object Representations -- A Probabilistic Generative Modeling Approach',\n",
       "  'type': u'phdthesis',\n",
       "  u'year': u'2013'},\n",
       " {u'%address': u'Hong Kong',\n",
       "  u'author': [u'\\\\mylastname, \\\\myfirstname'],\n",
       "  'id': 'Dai2009',\n",
       "  u'keyword': u'thesis',\n",
       "  u'school': u'The University of Hong Kong',\n",
       "  u'title': u'A Markov Random Field Approach for Multi-view Normal Integration',\n",
       "  'type': u'mastersthesis',\n",
       "  u'year': u'2009'},\n",
       " {u'%pages': u'under review',\n",
       "  u'author': [u'\\\\mylastname, \\\\myfirstname',\n",
       "   u'Hensman, James',\n",
       "   u'Lawrence, Neil'],\n",
       "  u'booktitle': u'arXiv:1505.02434',\n",
       "  'id': 'DaiEtAl2015a',\n",
       "  u'title': u'Spike and Slab Gaussian Process Latent Variable Models',\n",
       "  'type': u'inproceedings',\n",
       "  u'year': u'2015'},\n",
       " {u'author': [u'Gonzalez, Javier',\n",
       "   u'Hennig, Philipp',\n",
       "   u'\\\\mylastname, \\\\myfirstname',\n",
       "   u'Lawrence, Neil'],\n",
       "  u'booktitle': u'International Conference on Machine Learning (ICML)',\n",
       "  'id': 'JavierEtAl2015',\n",
       "  u'pages': u'under review',\n",
       "  u'title': u'Batch Bayesian Optimization via Local Penalization',\n",
       "  'type': u'inproceedings',\n",
       "  u'year': u'2015'},\n",
       " {u'%pages': u'under review',\n",
       "  u'author': [u'Shelton, Jacquelyn',\n",
       "   u'Gasthaus, Jan',\n",
       "   u'\\\\mylastname, \\\\myfirstname',\n",
       "   u'L\\xfccke, J\\xf6rg',\n",
       "   u'Gretton, Arthur'],\n",
       "  u'booktitle': u'arXiv:1412.3411',\n",
       "  'id': 'SheltonEtAl2015',\n",
       "  u'title': u'GP-select: Accelerating EM using adaptive subspace preselection',\n",
       "  'type': u'inproceedings',\n",
       "  u'year': u'2015'},\n",
       " {u'%pages': u'under review',\n",
       "  u'author': [u'\\\\mylastname, \\\\myfirstname', u'Lawrence, Neil'],\n",
       "  u'booktitle': u'ICML Deep Learning workshop',\n",
       "  'id': 'DaiLawrence2015a',\n",
       "  u'title': u'Variational Hierarchical Community of Experts',\n",
       "  'type': u'inproceedings',\n",
       "  u'year': u'2015'},\n",
       " {u'author': [u'Gonz\\xe1lez, Javier',\n",
       "   u'\\\\mylastname, \\\\myfirstname',\n",
       "   u'Hennig, Philipp',\n",
       "   u'Lawrence, Neil'],\n",
       "  u'booktitle': u'Neural Information Processing Systems (NIPS)',\n",
       "  'id': 'GonzalezEtAl2015',\n",
       "  u'pages': u'under review',\n",
       "  u'title': u'Batch Bayesian Optimization via Local Penalization',\n",
       "  'type': u'inproceedings',\n",
       "  u'year': u'2015'},\n",
       " {u'author': [u'\\\\mylastname, \\\\myfirstname',\n",
       "   u'Hensman, James',\n",
       "   u'Lawrence, Neil'],\n",
       "  u'booktitle': u'Neural Information Processing Systems (NIPS)',\n",
       "  'id': 'DaiEtAl2015b',\n",
       "  u'pages': u'under review',\n",
       "  u'title': u'Infinite Dimensional Gaussian Process Latent Variable Models',\n",
       "  'type': u'inproceedings',\n",
       "  u'year': u'2015'},\n",
       " {u'author': [u'\\\\mylastname, \\\\myfirstname', u'Lawrence, Neil'],\n",
       "  u'booktitle': u'Neural Information Processing Systems (NIPS)',\n",
       "  'id': 'DaiLawrence2015b',\n",
       "  u'pages': u'under review',\n",
       "  u'title': u'Deep Spike and Slab and Hierarchical Communities of Experts',\n",
       "  'type': u'inproceedings',\n",
       "  u'year': u'2015'}]"
      ]
     },
     "execution_count": 85,
     "metadata": {},
     "output_type": "execute_result"
    }
   ],
   "source": [
    "bib_db.entries"
   ]
  },
  {
   "cell_type": "code",
   "execution_count": 93,
   "metadata": {
    "collapsed": false
   },
   "outputs": [],
   "source": [
    "order_list = np.argsort(year_list)[::-1]"
   ]
  },
  {
   "cell_type": "code",
   "execution_count": 88,
   "metadata": {
    "collapsed": false
   },
   "outputs": [],
   "source": [
    "def parse_bib_entry(entry):\n",
    "    journaldetails = None\n",
    "    if entry['type']=='inproceedings':\n",
    "        pubname = entry['booktitle']\n",
    "    elif entry['type']=='article':\n",
    "        pubname = entry['journal']\n",
    "        journaldetails = entry\n",
    "    title = entry['title']\n",
    "    authors = getnames(entry['author'])\n",
    "    year = entry['year']\n",
    "    #pages = entry['pages'] if 'pages' in entry else None\n",
    "    return authors, title, pubname, year"
   ]
  },
  {
   "cell_type": "code",
   "execution_count": 111,
   "metadata": {
    "collapsed": true
   },
   "outputs": [],
   "source": [
    "def produce_publication_entry(entry):\n",
    "    if entry['type'] != 'article' and entry['type']!='inproceedings':\n",
    "        return ''\n",
    "    authors, title, pubname,year = parse_bib_entry(entry)\n",
    "    \n",
    "    authors = [name if name!='\\\\myfirstname \\\\mylastname' else '*Zhenwen Dai*' for name in authors ]\n",
    "    entry_str = ''\n",
    "    entry_str += '+   '+', '.join(authors)+' ('+year+')  \\n'\n",
    "    entry_str += '    **'+title+'**  \\n'\n",
    "    entry_str += '    '+pubname+'  \\n'\n",
    "    entry_str += '\\n'\n",
    "    return entry_str"
   ]
  },
  {
   "cell_type": "code",
   "execution_count": 112,
   "metadata": {
    "collapsed": false
   },
   "outputs": [
    {
     "name": "stdout",
     "output_type": "stream",
     "text": [
      "+   Abdul-Saboor Sheikh, *Zhenwen Dai*, Nicol Harper, Richard Turner, Jörg Lücke (2015)  \n",
      "    **Maximal causes for a masking based model of STRFs in primary auditory cortex**  \n",
      "    Computational and Systems Neuroscience (Cosyne)  \n",
      "\n",
      "\n"
     ]
    }
   ],
   "source": [
    "print produce_publication_entry(bib_db.entries[0])"
   ]
  },
  {
   "cell_type": "code",
   "execution_count": 113,
   "metadata": {
    "collapsed": true
   },
   "outputs": [],
   "source": [
    "def make_head():\n",
    "    return \"\"\"---\n",
    "layout: page\n",
    "title: My publications\n",
    "tags: [about, Jekyll, theme, responsive]\n",
    "comments: false\n",
    "share: false\n",
    "---\n",
    "\"\"\""
   ]
  },
  {
   "cell_type": "code",
   "execution_count": 114,
   "metadata": {
    "collapsed": false
   },
   "outputs": [],
   "source": [
    "#Produce publications.md\n",
    "with open('./publications.md','w') as f:\n",
    "    f.write(make_head().encode('utf8'))\n",
    "    for i in order_list:\n",
    "        f.write(produce_publication_entry(bib_db.entries[i]).encode('utf8'))\n",
    "    f.close()    "
   ]
  },
  {
   "cell_type": "code",
   "execution_count": 115,
   "metadata": {
    "collapsed": false
   },
   "outputs": [
    {
     "name": "stdout",
     "output_type": "stream",
     "text": [
      "---\n",
      "layout: page\n",
      "title: My publications\n",
      "tags: [about, Jekyll, theme, responsive]\n",
      "comments: false\n",
      "share: false\n",
      "---\n",
      "\n"
     ]
    }
   ],
   "source": [
    "print make_head()"
   ]
  },
  {
   "cell_type": "code",
   "execution_count": null,
   "metadata": {
    "collapsed": true
   },
   "outputs": [],
   "source": []
  },
  {
   "cell_type": "code",
   "execution_count": null,
   "metadata": {
    "collapsed": true
   },
   "outputs": [],
   "source": []
  }
 ],
 "metadata": {
  "kernelspec": {
   "display_name": "Python 2",
   "language": "python",
   "name": "python2"
  },
  "language_info": {
   "codemirror_mode": {
    "name": "ipython",
    "version": 2
   },
   "file_extension": ".py",
   "mimetype": "text/x-python",
   "name": "python",
   "nbconvert_exporter": "python",
   "pygments_lexer": "ipython2",
   "version": "2.7.10"
  }
 },
 "nbformat": 4,
 "nbformat_minor": 0
}
